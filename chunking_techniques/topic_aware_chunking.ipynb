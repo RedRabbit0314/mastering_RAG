{
 "cells": [
  {
   "cell_type": "markdown",
   "metadata": {},
   "source": [
    "### Effective Chunking for optimizing the retrieval and embedding steps of RAG systems. \n",
    "\n",
    "- 문장 입베딩 활용 => 문서 내의 토픽 변화 파악 => 각 청크가 하나의 토픽을 캡슐화하는 기술\n",
    "\n",
    "- 기대효과: 일관되고 맥락에 맞는 응답을 생성하는 시스템의 기능을 향상시킴"
   ]
  },
  {
   "cell_type": "markdown",
   "metadata": {},
   "source": [
    "cf. Standard methods for document splitting\n",
    "\n",
    "1. Recursive Character Text Splitter\n",
    "    - 문자를 기준으로 텍스트를 반복적으로 나누어 문서를 분할하는 방법\n",
    "    - 자연스러운 단락이나 문장 구분이 있는 문서에 특히 유용\n",
    "2. Token Splitter\n",
    "    - 단어나 하위 단어들이 될 수 있는 토큰들을 사용하여 분할하는 방법\n",
    "    - 텍스트의 무결성을 유지하기 위해 NLP 작업에서 일반적으로 사용됨\n",
    "3. Sentence Splitter\n",
    "    - 문장 경계에서 문서를 분할함\n",
    "    - 텍스트의 맥락적 무결성을 유지\n",
    "4. Regex Splitter\n",
    "    - 정규 표현식을 사용하여 사용자 정의 분할 지점을 정의\n",
    "    - 가장 높은 유연성을 제공\n",
    "    - 특정 키워드나 구두점이 나올 때마다 문서를 분할 가능\n",
    "5. Markdown Splitter\n",
    "    - 마크다운 특정 요소를 기준으로 텍스트를 분할"
   ]
  },
  {
   "cell_type": "markdown",
   "metadata": {},
   "source": [
    "## Recursive Character Text Splitter"
   ]
  },
  {
   "cell_type": "code",
   "execution_count": 1,
   "metadata": {},
   "outputs": [],
   "source": [
    "import os\n",
    "os.environ[\"TOKENIZERS_PARALLELISM\"] = \"false\""
   ]
  },
  {
   "cell_type": "code",
   "execution_count": 2,
   "metadata": {},
   "outputs": [],
   "source": [
    "from dotenv import load_dotenv\n",
    "\n",
    "load_dotenv()\n",
    "\n",
    "TEMPLATE_PATH = os.getenv(\"TEMPLATE_PATH\")"
   ]
  },
  {
   "cell_type": "code",
   "execution_count": 3,
   "metadata": {},
   "outputs": [
    {
     "name": "stdout",
     "output_type": "stream",
     "text": [
      "#### 1. 개요\n",
      "STAYC는 2020년 11월 12일에 데뷔한 하이업엔터테인먼트 소속의 6인조 걸그룹입니다. \n",
      "그룹명은 'Star To A Young Culture'의 약자로, 젊은 문화를 이끄는 스타가 되겠다는 의미를 담고 있습니다. \n",
      "STAYC는 독특한 음색과 뛰어난 실력으로 주목받고 있으며, '틴프레시'라는 장르를 개척했습니다.\n",
      "\n",
      "#### 2. 멤버\n",
      "- 수민: 서브보컬, 2001년 3월 13일생\n",
      "- 시은: 리더, 메인보컬, 2001년 8월 1일생\n",
      "- 아이사: 리드보컬, 2002년 1월 23일생\n",
      "- 세은: 리더, 서브보컬, 2003년 6월 14일생\n",
      "- 윤: 리드보컬, 2004년 4월 14일생\n",
      "- 재이: 서브보컬, 2004년 12월 9일생\n",
      "------------------------------\n",
      "#### 2. 멤버\n",
      "- 수민: 서브보컬, 2001년 3월 13일생\n",
      "- 시은: 리더, 메인보컬, 2001년 8월 1일생\n",
      "- 아이사: 리드보컬, 2002년 1월 23일생\n",
      "- 세은: 리더, 서브보컬, 2003년 6월 14일생\n",
      "- 윤: 리드보컬, 2004년 4월 14일생\n",
      "- 재이: 서브보컬, 2004년 12월 9일생\n",
      "\n",
      "#### 3. 특징\n",
      "- 로고: 2022년 4월 28일 YOUNG-LUV.COM 앨범부터 공식 로고 사용.\n",
      "- 그룹명: 'Star To A Young Culture'의 약자.\n",
      "- 실력: 안정적인 가창력과 개성 있는 음색, 상향 평준화된 댄스 실력, 멤버들의 반전 랩 실력.\n",
      "- 비주얼: 멤버별로 개성 있는 외모와 다양한 동물상.\n",
      "- 역대 리더: 수민(2020-2023), 시은과 세은(2023-현재).\n",
      "------------------------------\n",
      "#### 4. 음반\n",
      "- 싱글 1집: Star To A Young Culture (2020) - 타이틀곡: SO BAD\n",
      "- 싱글 2집: STAYDOM (2021) - 타이틀곡: ASAP\n",
      "- 미니 1집: STEREOTYPE (2021) - 타이틀곡: 색안경\n",
      "- 미니 2집: YOUNG-LUV.COM (2022) - 타이틀곡: RUN2U\n",
      "- 싱글 3집: WE NEED LOVE (2022) - 타이틀곡: BEAUTIFUL MONSTER\n",
      "- 싱글 4집: Teddy Bear (2023) - 타이틀곡: Teddy Bear\n",
      "- 미니 3집: TEENFRESH (2023) - 타이틀곡: Bubble\n",
      "- 일본 싱글: POPPY (2022), Teddy Bear (2023), LIT (2023)\n",
      "------------------------------\n",
      "#### 5. 뮤직비디오\n",
      "STAYC의 뮤직비디오는 독특한 콘셉트와 화려한 비주얼로 팬들에게 큰 사랑을 받고 있습니다. \n",
      "주요 뮤직비디오로는 'SO BAD', 'ASAP', '색안경', 'RUN2U', 'BEAUTIFUL MONSTER', 'Teddy Bear', 'Bubble' 등이 있습니다.\n",
      "\n",
      "#### 6. 활동\n",
      "- YouTube: 다양한 콘텐츠와 커버곡을 업로드.\n",
      "- Weverse: 팬들과의 소통 창구.\n",
      "- 방송 직캠: 멤버별 직캠 영상 제공.\n",
      "- 공연 및 행사: 다양한 무대와 팬미팅.\n",
      "- 광고 및 화보: 여러 브랜드와의 협업.\n",
      "\n",
      "#### 7. 수상경력\n",
      "STAYC는 데뷔 이후 여러 음악 방송과 시상식에서 수상하며 그 실력을 인정받았습니다. \n",
      "주요 수상 경력으로는 '신인상', '베스트 퍼포먼스상' 등이 있습니다.\n",
      "\n",
      "#### 8. 팬덤\n",
      "- 팬덤명: SWITH (스윗)\n",
      "- 응원봉: 윙크봉\n",
      "- 응원법: 각 곡마다 팬들이 함께 부를 수 있는 응원법이 존재.\n",
      "------------------------------\n",
      "#### 7. 수상경력\n",
      "STAYC는 데뷔 이후 여러 음악 방송과 시상식에서 수상하며 그 실력을 인정받았습니다. \n",
      "주요 수상 경력으로는 '신인상', '베스트 퍼포먼스상' 등이 있습니다.\n",
      "\n",
      "#### 8. 팬덤\n",
      "- 팬덤명: SWITH (스윗)\n",
      "- 응원봉: 윙크봉\n",
      "- 응원법: 각 곡마다 팬들이 함께 부를 수 있는 응원법이 존재.\n",
      "\n",
      "#### 9. 여담\n",
      "STAYC는 \"중소 기획사의 기적\"이라는 별명을 가지고 있으며, 데뷔 초부터 뛰어난 실력과 비주얼로 주목받았습니다. \n",
      "멤버들은 다양한 출신지와 배경을 가지고 있으며, 팀워크와 개개인의 역량이 뛰어납니다. \n",
      "팬들과의 소통을 중요시하며, 다양한 콘텐츠를 통해 팬들과의 유대감을 강화하고 있습니다.\n",
      "------------------------------\n",
      "------------------------------\n",
      "splitted_docs_num: 5\n"
     ]
    }
   ],
   "source": [
    "# Recursive Character Text Splitter\n",
    "from langchain.text_splitter import RecursiveCharacterTextSplitter\n",
    "\n",
    "# Example long document text\n",
    "f = open(TEMPLATE_PATH, \"r\")\n",
    "data = f.read()\n",
    "f.close()\n",
    "# Initializing the RecursiveCharacterTextSplitter with a chunk size of 1000 characters and an overlap of 50 characters\n",
    "splitter = RecursiveCharacterTextSplitter(chunk_size = 500, chunk_overlap = 200)\n",
    "\n",
    "# Splitting the text into chunks\n",
    "chunks = splitter.split_text(data)\n",
    "\n",
    "splitted_docs_num = 0\n",
    "# Printing each chunk\n",
    "for idx, chunk in enumerate(chunks):\n",
    "    print(chunk)\n",
    "    print(\"-\" * 30)\n",
    "    splitted_docs_num += 1\n",
    "\n",
    "print(\"-\" * 30)\n",
    "print(f\"splitted_docs_num: {splitted_docs_num}\")\n"
   ]
  },
  {
   "cell_type": "markdown",
   "metadata": {},
   "source": [
    "## Token Splitter"
   ]
  },
  {
   "cell_type": "code",
   "execution_count": 4,
   "metadata": {},
   "outputs": [
    {
     "name": "stdout",
     "output_type": "stream",
     "text": [
      "#### 1. 개요\n",
      "STAYC는 2020년 11월 12일에 데뷔한 하이업엔터테인먼트 소속의 6인조 걸그룹입니다. \n",
      "그룹명은 'Star To A Young Culture'의 약자로, 젊은 문화를 이끄는 스타가 되겠다는 의미를 담고 있습니다. \n",
      "ST\n",
      "------------------------------\n",
      "AYC는 독특한 음색과 뛰어난 실력으로 주목받고 있으며, '틴프레시'라는 장르를 개척했습니다.\n",
      "\n",
      "#### 2. 멤버\n",
      "- 수민: 서브보컬, 2001년 3월 13일생\n",
      "- 시은: 리더, 메인보컬, 2001년 8월 1일생\n",
      "------------------------------\n",
      "\n",
      "- 아이사: 리드보컬, 2002년 1월 23일생\n",
      "- 세은: 리더, 서브보컬, 2003년 6월 14일생\n",
      "- 윤: 리드보컬, 2004년 4월 14일생\n",
      "- 재이: 서브보컬, 2004년 12월 9일생\n",
      "\n",
      "#### 3. 특징\n",
      "- 로고: 2022년 4월 28일 YOUNG-LUV.COM 앨범부터 �\n",
      "------------------------------\n",
      "��식 로고 사용.\n",
      "- 그룹명: 'Star To A Young Culture'의 약자.\n",
      "- 실력: 안정적인 가창력과 개성 있는 음색, 상향 평준화된 댄스 실력, 멤버들의 반전 랩 실력.\n",
      "- 비주얼: 멤버별로 개성 있는 외�\n",
      "------------------------------\n",
      "�와 다양한 동물상.\n",
      "- 역대 리더: 수민(2020-2023), 시은과 세은(2023-현재).\n",
      "\n",
      "#### 4. 음반\n",
      "- 싱글 1집: Star To A Young Culture (2020) - 타이틀곡: SO BAD\n",
      "- 싱글 2집: STAYDOM (2021) - 타이틀곡: ASAP\n",
      "- 미니 1집: STEREOTYPE (2021) - 타이틀곡: 색안경\n",
      "\n",
      "------------------------------\n",
      "- 미니 2집: YOUNG-LUV.COM (2022) - 타이틀곡: RUN2U\n",
      "- 싱글 3집: WE NEED LOVE (2022) - 타이틀곡: BEAUTIFUL MONSTER\n",
      "- 싱글 4집: Teddy Bear (2023) - 타이틀곡: Teddy Bear\n",
      "- 미니 3집: TEENFRESH (2023) - 타이틀곡: Bubble\n",
      "- 일본 싱글: POPPY (2022), Teddy Bear (2023), LIT (2023)\n",
      "\n",
      "#### 5. 뮤직비디\n",
      "------------------------------\n",
      "오\n",
      "STAYC의 뮤직비디오는 독특한 콘셉트와 화려한 비주얼로 팬들에게 큰 사랑을 받고 있습니다. \n",
      "주요 뮤직비디오로는 'SO BAD', 'ASAP', '색안경', 'RUN2U', 'BEAUTIFUL MONSTER', 'Teddy Bear', 'Bubble' 등이 있습니다.\n",
      "\n",
      "####\n",
      "------------------------------\n",
      " 6. 활동\n",
      "- YouTube: 다양한 콘텐츠와 커버곡을 업로드.\n",
      "- Weverse: 팬들과의 소통 창구.\n",
      "- 방송 직캠: 멤버별 직캠 영상 제공.\n",
      "- 공연 및 행사: 다양한 무대와 팬미팅.\n",
      "- 광고 및 화보: 여러\n",
      "------------------------------\n",
      " 브랜드와의 협업.\n",
      "\n",
      "#### 7. 수상경력\n",
      "STAYC는 데뷔 이후 여러 음악 방송과 시상식에서 수상하며 그 실력을 인정받았습니다. \n",
      "주요 수상 경력으로는 '신인상', '베스트 퍼포먼스\n",
      "------------------------------\n",
      "상' 등이 있습니다.\n",
      "\n",
      "#### 8. 팬덤\n",
      "- 팬덤명: SWITH (스윗)\n",
      "- 응원봉: 윙크봉\n",
      "- 응원법: 각 곡마다 팬들이 함께 부를 수 있는 응원법이 존재.\n",
      "\n",
      "#### 9. 여담\n",
      "STAYC는 \"중소 기획사의 기적\"이라는\n",
      "------------------------------\n",
      " 별명을 가지고 있으며, 데뷔 초부터 뛰어난 실력과 비주얼로 주목받았습니다. \n",
      "멤버들은 다양한 출신지와 배경을 가지고 있으며, 팀워크와 개개인의 역량이 뛰어납니다.\n",
      "------------------------------\n",
      " \n",
      "팬들과의 소통을 중요시하며, 다양한 콘텐츠를 통해 팬들과의 유대감을 강화하고 있습니다.\n",
      "\n",
      "------------------------------\n",
      "------------------------------\n",
      "splitted_docs_num: 12\n"
     ]
    }
   ],
   "source": [
    "# Importing the TokenSplitter class from langchain\n",
    "from langchain.text_splitter import TokenTextSplitter\n",
    "\n",
    "# Example long documnet text\n",
    "f = open(TEMPLATE_PATH, 'r')\n",
    "data = f.read()\n",
    "f.close()\n",
    "\n",
    "splitter = TokenTextSplitter(chunk_size = 200, chunk_overlap = 0)\n",
    "\n",
    "# Splitting the text into chunks\n",
    "chunks = splitter.split_text(data)\n",
    "\n",
    "splitted_docs_num = 0\n",
    "# Printing each chunk\n",
    "for idx, chunk in enumerate(chunks):\n",
    "    print(chunk)\n",
    "    print(\"-\" * 30)\n",
    "    splitted_docs_num += 1\n",
    "\n",
    "print(\"-\" * 30)\n",
    "print(f\"splitted_docs_num: {splitted_docs_num}\")"
   ]
  },
  {
   "cell_type": "markdown",
   "metadata": {},
   "source": [
    "## Semantic Chunking"
   ]
  },
  {
   "cell_type": "code",
   "execution_count": 5,
   "metadata": {},
   "outputs": [
    {
     "name": "stdout",
     "output_type": "stream",
     "text": [
      "Method: percentile\n",
      "Chunk 1:\n",
      "page_content=\"#### 1. 개요\\nSTAYC는 2020년 11월 12일에 데뷔한 하이업엔터테인먼트 소속의 6인조 걸그룹입니다. 그룹명은 'Star To A Young Culture'의 약자로, 젊은 문화를 이끄는 스타가 되겠다는 의미를 담고 있습니다. STAYC는 독특한 음색과 뛰어난 실력으로 주목받고 있으며, '틴프레시'라는 장르를 개척했습니다. #### 2. 멤버\\n- 수민: 서브보컬, 2001년 3월 13일생\\n- 시은: 리더, 메인보컬, 2001년 8월 1일생\\n- 아이사: 리드보컬, 2002년 1월 23일생\\n- 세은: 리더, 서브보컬, 2003년 6월 14일생\\n- 윤: 리드보컬, 2004년 4월 14일생\\n- 재이: 서브보컬, 2004년 12월 9일생\\n\\n#### 3. 특징\\n- 로고: 2022년 4월 28일 YOUNG-LUV.COM 앨범부터 공식 로고 사용. - 그룹명: 'Star To A Young Culture'의 약자. - 실력: 안정적인 가창력과 개성 있는 음색, 상향 평준화된 댄스 실력, 멤버들의 반전 랩 실력. - 비주얼: 멤버별로 개성 있는 외모와 다양한 동물상. - 역대 리더: 수민(2020-2023), 시은과 세은(2023-현재). #### 4. 음반\\n- 싱글 1집: Star To A Young Culture (2020) - 타이틀곡: SO BAD\\n- 싱글 2집: STAYDOM (2021) - 타이틀곡: ASAP\\n- 미니 1집: STEREOTYPE (2021) - 타이틀곡: 색안경\\n- 미니 2집: YOUNG-LUV.COM (2022) - 타이틀곡: RUN2U\\n- 싱글 3집: WE NEED LOVE (2022) - 타이틀곡: BEAUTIFUL MONSTER\\n- 싱글 4집: Teddy Bear (2023) - 타이틀곡: Teddy Bear\\n- 미니 3집: TEENFRESH (2023) - 타이틀곡: Bubble\\n- 일본 싱글: POPPY (2022), Teddy Bear (2023), LIT (2023)\\n\\n#### 5. 뮤직비디오\\nSTAYC의 뮤직비디오는 독특한 콘셉트와 화려한 비주얼로 팬들에게 큰 사랑을 받고 있습니다. 주요 뮤직비디오로는 'SO BAD', 'ASAP', '색안경', 'RUN2U', 'BEAUTIFUL MONSTER', 'Teddy Bear', 'Bubble' 등이 있습니다. #### 6. 활동\\n- YouTube: 다양한 콘텐츠와 커버곡을 업로드. - Weverse: 팬들과의 소통 창구. - 방송 직캠: 멤버별 직캠 영상 제공. - 공연 및 행사: 다양한 무대와 팬미팅. - 광고 및 화보: 여러 브랜드와의 협업. #### 7. 수상경력\\nSTAYC는 데뷔 이후 여러 음악 방송과 시상식에서 수상하며 그 실력을 인정받았습니다. 주요 수상 경력으로는 '신인상', '베스트 퍼포먼스상' 등이 있습니다.\"\n",
      "------------------------------\n",
      "Chunk 2:\n",
      "page_content='#### 8. 팬덤\\n- 팬덤명: SWITH (스윗)\\n- 응원봉: 윙크봉\\n- 응원법: 각 곡마다 팬들이 함께 부를 수 있는 응원법이 존재. #### 9. 여담\\nSTAYC는 \"중소 기획사의 기적\"이라는 별명을 가지고 있으며, 데뷔 초부터 뛰어난 실력과 비주얼로 주목받았습니다. 멤버들은 다양한 출신지와 배경을 가지고 있으며, 팀워크와 개개인의 역량이 뛰어납니다.'\n",
      "------------------------------\n",
      "Chunk 3:\n",
      "page_content='팬들과의 소통을 중요시하며, 다양한 콘텐츠를 통해 팬들과의 유대감을 강화하고 있습니다. '\n",
      "------------------------------\n",
      "Method: standard_deviation\n",
      "Chunk 1:\n",
      "page_content='#### 1. 개요\\nSTAYC는 2020년 11월 12일에 데뷔한 하이업엔터테인먼트 소속의 6인조 걸그룹입니다. 그룹명은 \\'Star To A Young Culture\\'의 약자로, 젊은 문화를 이끄는 스타가 되겠다는 의미를 담고 있습니다. STAYC는 독특한 음색과 뛰어난 실력으로 주목받고 있으며, \\'틴프레시\\'라는 장르를 개척했습니다. #### 2. 멤버\\n- 수민: 서브보컬, 2001년 3월 13일생\\n- 시은: 리더, 메인보컬, 2001년 8월 1일생\\n- 아이사: 리드보컬, 2002년 1월 23일생\\n- 세은: 리더, 서브보컬, 2003년 6월 14일생\\n- 윤: 리드보컬, 2004년 4월 14일생\\n- 재이: 서브보컬, 2004년 12월 9일생\\n\\n#### 3. 특징\\n- 로고: 2022년 4월 28일 YOUNG-LUV.COM 앨범부터 공식 로고 사용. - 그룹명: \\'Star To A Young Culture\\'의 약자. - 실력: 안정적인 가창력과 개성 있는 음색, 상향 평준화된 댄스 실력, 멤버들의 반전 랩 실력. - 비주얼: 멤버별로 개성 있는 외모와 다양한 동물상. - 역대 리더: 수민(2020-2023), 시은과 세은(2023-현재). #### 4. 음반\\n- 싱글 1집: Star To A Young Culture (2020) - 타이틀곡: SO BAD\\n- 싱글 2집: STAYDOM (2021) - 타이틀곡: ASAP\\n- 미니 1집: STEREOTYPE (2021) - 타이틀곡: 색안경\\n- 미니 2집: YOUNG-LUV.COM (2022) - 타이틀곡: RUN2U\\n- 싱글 3집: WE NEED LOVE (2022) - 타이틀곡: BEAUTIFUL MONSTER\\n- 싱글 4집: Teddy Bear (2023) - 타이틀곡: Teddy Bear\\n- 미니 3집: TEENFRESH (2023) - 타이틀곡: Bubble\\n- 일본 싱글: POPPY (2022), Teddy Bear (2023), LIT (2023)\\n\\n#### 5. 뮤직비디오\\nSTAYC의 뮤직비디오는 독특한 콘셉트와 화려한 비주얼로 팬들에게 큰 사랑을 받고 있습니다. 주요 뮤직비디오로는 \\'SO BAD\\', \\'ASAP\\', \\'색안경\\', \\'RUN2U\\', \\'BEAUTIFUL MONSTER\\', \\'Teddy Bear\\', \\'Bubble\\' 등이 있습니다. #### 6. 활동\\n- YouTube: 다양한 콘텐츠와 커버곡을 업로드. - Weverse: 팬들과의 소통 창구. - 방송 직캠: 멤버별 직캠 영상 제공. - 공연 및 행사: 다양한 무대와 팬미팅. - 광고 및 화보: 여러 브랜드와의 협업. #### 7. 수상경력\\nSTAYC는 데뷔 이후 여러 음악 방송과 시상식에서 수상하며 그 실력을 인정받았습니다. 주요 수상 경력으로는 \\'신인상\\', \\'베스트 퍼포먼스상\\' 등이 있습니다. #### 8. 팬덤\\n- 팬덤명: SWITH (스윗)\\n- 응원봉: 윙크봉\\n- 응원법: 각 곡마다 팬들이 함께 부를 수 있는 응원법이 존재. #### 9. 여담\\nSTAYC는 \"중소 기획사의 기적\"이라는 별명을 가지고 있으며, 데뷔 초부터 뛰어난 실력과 비주얼로 주목받았습니다. 멤버들은 다양한 출신지와 배경을 가지고 있으며, 팀워크와 개개인의 역량이 뛰어납니다. 팬들과의 소통을 중요시하며, 다양한 콘텐츠를 통해 팬들과의 유대감을 강화하고 있습니다. '\n",
      "------------------------------\n",
      "Method: interquartile\n",
      "Chunk 1:\n",
      "page_content='#### 1. 개요\\nSTAYC는 2020년 11월 12일에 데뷔한 하이업엔터테인먼트 소속의 6인조 걸그룹입니다. 그룹명은 \\'Star To A Young Culture\\'의 약자로, 젊은 문화를 이끄는 스타가 되겠다는 의미를 담고 있습니다. STAYC는 독특한 음색과 뛰어난 실력으로 주목받고 있으며, \\'틴프레시\\'라는 장르를 개척했습니다. #### 2. 멤버\\n- 수민: 서브보컬, 2001년 3월 13일생\\n- 시은: 리더, 메인보컬, 2001년 8월 1일생\\n- 아이사: 리드보컬, 2002년 1월 23일생\\n- 세은: 리더, 서브보컬, 2003년 6월 14일생\\n- 윤: 리드보컬, 2004년 4월 14일생\\n- 재이: 서브보컬, 2004년 12월 9일생\\n\\n#### 3. 특징\\n- 로고: 2022년 4월 28일 YOUNG-LUV.COM 앨범부터 공식 로고 사용. - 그룹명: \\'Star To A Young Culture\\'의 약자. - 실력: 안정적인 가창력과 개성 있는 음색, 상향 평준화된 댄스 실력, 멤버들의 반전 랩 실력. - 비주얼: 멤버별로 개성 있는 외모와 다양한 동물상. - 역대 리더: 수민(2020-2023), 시은과 세은(2023-현재). #### 4. 음반\\n- 싱글 1집: Star To A Young Culture (2020) - 타이틀곡: SO BAD\\n- 싱글 2집: STAYDOM (2021) - 타이틀곡: ASAP\\n- 미니 1집: STEREOTYPE (2021) - 타이틀곡: 색안경\\n- 미니 2집: YOUNG-LUV.COM (2022) - 타이틀곡: RUN2U\\n- 싱글 3집: WE NEED LOVE (2022) - 타이틀곡: BEAUTIFUL MONSTER\\n- 싱글 4집: Teddy Bear (2023) - 타이틀곡: Teddy Bear\\n- 미니 3집: TEENFRESH (2023) - 타이틀곡: Bubble\\n- 일본 싱글: POPPY (2022), Teddy Bear (2023), LIT (2023)\\n\\n#### 5. 뮤직비디오\\nSTAYC의 뮤직비디오는 독특한 콘셉트와 화려한 비주얼로 팬들에게 큰 사랑을 받고 있습니다. 주요 뮤직비디오로는 \\'SO BAD\\', \\'ASAP\\', \\'색안경\\', \\'RUN2U\\', \\'BEAUTIFUL MONSTER\\', \\'Teddy Bear\\', \\'Bubble\\' 등이 있습니다. #### 6. 활동\\n- YouTube: 다양한 콘텐츠와 커버곡을 업로드. - Weverse: 팬들과의 소통 창구. - 방송 직캠: 멤버별 직캠 영상 제공. - 공연 및 행사: 다양한 무대와 팬미팅. - 광고 및 화보: 여러 브랜드와의 협업. #### 7. 수상경력\\nSTAYC는 데뷔 이후 여러 음악 방송과 시상식에서 수상하며 그 실력을 인정받았습니다. 주요 수상 경력으로는 \\'신인상\\', \\'베스트 퍼포먼스상\\' 등이 있습니다. #### 8. 팬덤\\n- 팬덤명: SWITH (스윗)\\n- 응원봉: 윙크봉\\n- 응원법: 각 곡마다 팬들이 함께 부를 수 있는 응원법이 존재. #### 9. 여담\\nSTAYC는 \"중소 기획사의 기적\"이라는 별명을 가지고 있으며, 데뷔 초부터 뛰어난 실력과 비주얼로 주목받았습니다. 멤버들은 다양한 출신지와 배경을 가지고 있으며, 팀워크와 개개인의 역량이 뛰어납니다. 팬들과의 소통을 중요시하며, 다양한 콘텐츠를 통해 팬들과의 유대감을 강화하고 있습니다. '\n",
      "------------------------------\n",
      "Total number of splitted documents: 5\n"
     ]
    }
   ],
   "source": [
    "from langchain_experimental.text_splitter import SemanticChunker\n",
    "from langchain_openai.embeddings import OpenAIEmbeddings\n",
    "\n",
    "# 파일 읽기\n",
    "f = open(TEMPLATE_PATH, 'r')\n",
    "data = f.read()\n",
    "f.close()\n",
    "\n",
    "# SemanticChunker 인스턴스 생성 (다른 기준 사용)\n",
    "text_splitter = SemanticChunker(OpenAIEmbeddings(), breakpoint_threshold_type=\"percentile\")\n",
    "text_splitter_1 = SemanticChunker(OpenAIEmbeddings(), breakpoint_threshold_type=\"standard_deviation\")\n",
    "text_splitter_2 = SemanticChunker(OpenAIEmbeddings(), breakpoint_threshold_type=\"interquartile\")\n",
    "\n",
    "# 텍스트 분할\n",
    "docs = text_splitter.create_documents([data])\n",
    "docs_1 = text_splitter_1.create_documents([data])\n",
    "docs_2 = text_splitter_2.create_documents([data])\n",
    "\n",
    "# 분할된 텍스트를 카테고리별로 저장\n",
    "categories = [{'percentile': docs}, {'standard_deviation': docs_1}, {'interquartile': docs_2}]\n",
    "\n",
    "# 각 카테고리의 분할된 텍스트 출력\n",
    "splitted_docs_num = 0\n",
    "\n",
    "for category in categories:\n",
    "    for method, chunks in category.items():\n",
    "        print(f\"Method: {method}\")\n",
    "        for idx, chunk in enumerate(chunks):\n",
    "            print(f\"Chunk {idx+1}:\")\n",
    "            print(chunk)\n",
    "            print(\"-\" * 30)\n",
    "            splitted_docs_num += 1\n",
    "\n",
    "print(f\"Total number of splitted documents: {splitted_docs_num}\")"
   ]
  },
  {
   "cell_type": "markdown",
   "metadata": {},
   "source": [
    "## Markdown Splitter"
   ]
  },
  {
   "cell_type": "code",
   "execution_count": 6,
   "metadata": {},
   "outputs": [
    {
     "name": "stdout",
     "output_type": "stream",
     "text": [
      "page_content=\"STAYC는 2020년 11월 12일에 데뷔한 하이업엔터테인먼트 소속의 6인조 걸그룹입니다.\\n그룹명은 'Star To A Young Culture'의 약자로, 젊은 문화를 이끄는 스타가 되겠다는 의미를 담고 있습니다.\\nSTAYC는 독특한 음색과 뛰어난 실력으로 주목받고 있으며, '틴프레시'라는 장르를 개척했습니다.\" metadata={'Header 4': '1. 개요'}\n",
      "page_content='- 수민: 서브보컬, 2001년 3월 13일생\\n- 시은: 리더, 메인보컬, 2001년 8월 1일생\\n- 아이사: 리드보컬, 2002년 1월 23일생\\n- 세은: 리더, 서브보컬, 2003년 6월 14일생\\n- 윤: 리드보컬, 2004년 4월 14일생\\n- 재이: 서브보컬, 2004년 12월 9일생' metadata={'Header 4': '2. 멤버'}\n",
      "page_content=\"- 로고: 2022년 4월 28일 YOUNG-LUV.COM 앨범부터 공식 로고 사용.\\n- 그룹명: 'Star To A Young Culture'의 약자.\\n- 실력: 안정적인 가창력과 개성 있는 음색, 상향 평준화된 댄스 실력, 멤버들의 반전 랩 실력.\\n- 비주얼: 멤버별로 개성 있는 외모와 다양한 동물상.\\n- 역대 리더: 수민(2020-2023), 시은과 세은(2023-현재).\" metadata={'Header 4': '3. 특징'}\n",
      "page_content='- 싱글 1집: Star To A Young Culture (2020) - 타이틀곡: SO BAD\\n- 싱글 2집: STAYDOM (2021) - 타이틀곡: ASAP\\n- 미니 1집: STEREOTYPE (2021) - 타이틀곡: 색안경\\n- 미니 2집: YOUNG-LUV.COM (2022) - 타이틀곡: RUN2U\\n- 싱글 3집: WE NEED LOVE (2022) - 타이틀곡: BEAUTIFUL MONSTER\\n- 싱글 4집: Teddy Bear (2023) - 타이틀곡: Teddy Bear\\n- 미니 3집: TEENFRESH (2023) - 타이틀곡: Bubble\\n- 일본 싱글: POPPY (2022), Teddy Bear (2023), LIT (2023)' metadata={'Header 4': '4. 음반'}\n",
      "page_content=\"STAYC의 뮤직비디오는 독특한 콘셉트와 화려한 비주얼로 팬들에게 큰 사랑을 받고 있습니다.\\n주요 뮤직비디오로는 'SO BAD', 'ASAP', '색안경', 'RUN2U', 'BEAUTIFUL MONSTER', 'Teddy Bear', 'Bubble' 등이 있습니다.\" metadata={'Header 4': '5. 뮤직비디오'}\n",
      "page_content='- YouTube: 다양한 콘텐츠와 커버곡을 업로드.\\n- Weverse: 팬들과의 소통 창구.\\n- 방송 직캠: 멤버별 직캠 영상 제공.\\n- 공연 및 행사: 다양한 무대와 팬미팅.\\n- 광고 및 화보: 여러 브랜드와의 협업.' metadata={'Header 4': '6. 활동'}\n",
      "page_content=\"STAYC는 데뷔 이후 여러 음악 방송과 시상식에서 수상하며 그 실력을 인정받았습니다.\\n주요 수상 경력으로는 '신인상', '베스트 퍼포먼스상' 등이 있습니다.\" metadata={'Header 4': '7. 수상경력'}\n",
      "page_content='- 팬덤명: SWITH (스윗)\\n- 응원봉: 윙크봉\\n- 응원법: 각 곡마다 팬들이 함께 부를 수 있는 응원법이 존재.' metadata={'Header 4': '8. 팬덤'}\n",
      "page_content='STAYC는 \"중소 기획사의 기적\"이라는 별명을 가지고 있으며, 데뷔 초부터 뛰어난 실력과 비주얼로 주목받았습니다.\\n멤버들은 다양한 출신지와 배경을 가지고 있으며, 팀워크와 개개인의 역량이 뛰어납니다.\\n팬들과의 소통을 중요시하며, 다양한 콘텐츠를 통해 팬들과의 유대감을 강화하고 있습니다.' metadata={'Header 4': '9. 여담'}\n"
     ]
    }
   ],
   "source": [
    "# Importing the MarkdownHeaderTextSplitter\n",
    "from langchain.text_splitter import MarkdownHeaderTextSplitter\n",
    "\n",
    "# Example long markdown document text\n",
    "f = open(TEMPLATE_PATH, \"r\")\n",
    "data = f.read()\n",
    "f.close()\n",
    "\n",
    "\n",
    "headers_to_split_on = [\n",
    "    (\"#\", \"Header 1\"),\n",
    "    (\"##\", \"Header 2\"),\n",
    "    (\"###\", \"Header 3\"),\n",
    "    (\"####\", \"Header 4\")\n",
    "]\n",
    "\n",
    "splitter = MarkdownHeaderTextSplitter(headers_to_split_on=headers_to_split_on)\n",
    "\n",
    "# Splitting the the data into chunks\n",
    "chunks = splitter.split_text(data)\n",
    "\n",
    "# Printing each chunk\n",
    "for chunk in chunks:\n",
    "    print(chunk)"
   ]
  },
  {
   "cell_type": "markdown",
   "metadata": {},
   "source": [
    "## Introducing a Novel Topic-Aware Chunking Approach\n",
    "- sentence_BERT(SBERT)를 이용하여 개별 문장들에 대한 임베딩을 생성"
   ]
  },
  {
   "cell_type": "code",
   "execution_count": 7,
   "metadata": {},
   "outputs": [],
   "source": [
    "# Example long markdown document text\n",
    "f = open(TEMPLATE_PATH, \"r\")\n",
    "data = f.read()\n",
    "f.close()"
   ]
  },
  {
   "cell_type": "code",
   "execution_count": 8,
   "metadata": {},
   "outputs": [
    {
     "name": "stdout",
     "output_type": "stream",
     "text": [
      "texts: [\"#### 1. 개요\\nSTAYC는 2020년 11월 12일에 데뷔한 하이업엔터테인먼트 소속의 6인조 걸그룹입니다. \\n그룹명은 'Star To A Young Culture'의 약자로, 젊은 문화를 이끄는 스타가 되겠다는 의미를 담고 있습니다. \\nSTAYC는 독특한 음색과 뛰어난 실력으로 주목받고 있으며, '틴프레시'라는 장르를 개척했습니다.\", '#### 2. 멤버\\n- 수민: 서브보컬, 2001년 3월 13일생\\n- 시은: 리더, 메인보컬, 2001년 8월 1일생\\n- 아이사: 리드보컬, 2002년 1월 23일생\\n- 세은: 리더, 서브보컬, 2003년 6월 14일생\\n- 윤: 리드보컬, 2004년 4월 14일생\\n- 재이: 서브보컬, 2004년 12월 9일생', \"#### 3. 특징\\n- 로고: 2022년 4월 28일 YOUNG-LUV.COM 앨범부터 공식 로고 사용.\\n- 그룹명: 'Star To A Young Culture'의 약자.\\n- 실력: 안정적인 가창력과 개성 있는 음색, 상향 평준화된 댄스 실력, 멤버들의 반전 랩 실력.\\n- 비주얼: 멤버별로 개성 있는 외모와 다양한 동물상.\\n- 역대 리더: 수민(2020-2023), 시은과 세은(2023-현재).\", '#### 4. 음반\\n- 싱글 1집: Star To A Young Culture (2020) - 타이틀곡: SO BAD\\n- 싱글 2집: STAYDOM (2021) - 타이틀곡: ASAP\\n- 미니 1집: STEREOTYPE (2021) - 타이틀곡: 색안경\\n- 미니 2집: YOUNG-LUV.COM (2022) - 타이틀곡: RUN2U\\n- 싱글 3집: WE NEED LOVE (2022) - 타이틀곡: BEAUTIFUL MONSTER\\n- 싱글 4집: Teddy Bear (2023) - 타이틀곡: Teddy Bear\\n- 미니 3집: TEENFRESH (2023) - 타이틀곡: Bubble\\n- 일본 싱글: POPPY (2022), Teddy Bear (2023), LIT (2023)', \"#### 5. 뮤직비디오\\nSTAYC의 뮤직비디오는 독특한 콘셉트와 화려한 비주얼로 팬들에게 큰 사랑을 받고 있습니다. \\n주요 뮤직비디오로는 'SO BAD', 'ASAP', '색안경', 'RUN2U', 'BEAUTIFUL MONSTER', 'Teddy Bear', 'Bubble' 등이 있습니다.\\n\\n#### 6. 활동\\n- YouTube: 다양한 콘텐츠와 커버곡을 업로드.\\n- Weverse: 팬들과의 소통 창구.\\n- 방송 직캠: 멤버별 직캠 영상 제공.\\n- 공연 및 행사: 다양한 무대와 팬미팅.\\n- 광고 및 화보: 여러 브랜드와의 협업.\", \"#### 7. 수상경력\\nSTAYC는 데뷔 이후 여러 음악 방송과 시상식에서 수상하며 그 실력을 인정받았습니다. \\n주요 수상 경력으로는 '신인상', '베스트 퍼포먼스상' 등이 있습니다.\\n\\n#### 8. 팬덤\\n- 팬덤명: SWITH (스윗)\\n- 응원봉: 윙크봉\\n- 응원법: 각 곡마다 팬들이 함께 부를 수 있는 응원법이 존재.\", '#### 9. 여담\\nSTAYC는 \"중소 기획사의 기적\"이라는 별명을 가지고 있으며, 데뷔 초부터 뛰어난 실력과 비주얼로 주목받았습니다. \\n멤버들은 다양한 출신지와 배경을 가지고 있으며, 팀워크와 개개인의 역량이 뛰어납니다. \\n팬들과의 소통을 중요시하며, 다양한 콘텐츠를 통해 팬들과의 유대감을 강화하고 있습니다.']\n"
     ]
    }
   ],
   "source": [
    "from langchain_text_splitters import CharacterTextSplitter\n",
    "\n",
    "text_splitter_enc = CharacterTextSplitter.from_tiktoken_encoder(encoding_name=\"cl100k_base\", chunk_size=260, chunk_overlap=0)\n",
    "texts = text_splitter_enc.split_text(data)\n",
    "\n",
    "print(\"texts:\", texts)"
   ]
  },
  {
   "cell_type": "code",
   "execution_count": 9,
   "metadata": {},
   "outputs": [
    {
     "name": "stderr",
     "output_type": "stream",
     "text": [
      "/opt/anaconda3/envs/rag/lib/python3.11/site-packages/sentence_transformers/cross_encoder/CrossEncoder.py:11: TqdmExperimentalWarning: Using `tqdm.autonotebook.tqdm` in notebook mode. Use `tqdm.tqdm` instead to force console mode (e.g. in jupyter console)\n",
      "  from tqdm.autonotebook import tqdm, trange\n"
     ]
    }
   ],
   "source": [
    "from sentence_transformers import SentenceTransformer\n",
    "\n",
    "# Example sentences \n",
    "sentences = texts\n",
    "\n",
    "# Initializing the SBERT Model\n",
    "model = SentenceTransformer('paraphrase-MiniLM-L6-v2')\n",
    "\n",
    "# Generating embeddings for each sentence\n",
    "embeddings = model.encode(sentences)"
   ]
  },
  {
   "cell_type": "markdown",
   "metadata": {},
   "source": [
    "## Calculating Similarity\n",
    "- cosine similarity, manhattan similarity, Euclidian similarity 등을 이용하여 문장들간의 유사성 측정"
   ]
  },
  {
   "cell_type": "code",
   "execution_count": 10,
   "metadata": {},
   "outputs": [
    {
     "name": "stdout",
     "output_type": "stream",
     "text": [
      "similarity_matrix: [[0.99999976 0.66585875 0.91259027 0.8393899  0.6012131  0.67474663\n",
      "  0.65659684]\n",
      " [0.66585875 1.0000001  0.68222314 0.68897784 0.8079772  0.9293277\n",
      "  0.9299406 ]\n",
      " [0.91259027 0.68222314 1.0000002  0.88767004 0.61313957 0.67936283\n",
      "  0.6507598 ]\n",
      " [0.8393899  0.68897784 0.88767004 0.9999999  0.6298312  0.65169597\n",
      "  0.6568866 ]\n",
      " [0.6012131  0.8079772  0.61313957 0.6298312  0.99999994 0.84322417\n",
      "  0.8331971 ]\n",
      " [0.67474663 0.9293277  0.67936283 0.65169597 0.84322417 1.\n",
      "  0.95456064]\n",
      " [0.65659684 0.9299406  0.6507598  0.6568866  0.8331971  0.95456064\n",
      "  1.0000001 ]]\n"
     ]
    }
   ],
   "source": [
    "from sklearn.metrics.pairwise import cosine_similarity\n",
    "\n",
    "# Calculating cosine similarity between embeddings\n",
    "similarity_matrix = cosine_similarity(embeddings)\n",
    "\n",
    "print(\"similarity_matrix:\", similarity_matrix)"
   ]
  },
  {
   "cell_type": "markdown",
   "metadata": {},
   "source": [
    "## Gap Scores and Smoothing"
   ]
  },
  {
   "cell_type": "markdown",
   "metadata": {},
   "source": [
    "E.g\n",
    "n = 3 일 때, \n",
    "\n",
    "\t•\ti = 0일 때: embeddings[0:3] (vec1, vec2, vec3)와 embeddings[3:6] (vec4, vec5, vec6)의 유사도를 계산합니다.\n",
    "\t•\ti = 1일 때: embeddings[1:4] (vec2, vec3, vec4)와 embeddings[4:7] (vec5, vec6, vec7)의 유사도를 계산합니다.\n",
    "\t•\ti = 2일 때: embeddings[2:5] (vec3, vec4, vec5)와 embeddings[5:8] (vec6, vec7, vec8)의 유사도를 계산합니다.\n",
    "\t•\ti = 3일 때: embeddings[3:6] (vec4, vec5, vec6)와 embeddings[6:9] (vec7, vec8, vec9)의 유사도를 계산합니다.\n"
   ]
  },
  {
   "cell_type": "code",
   "execution_count": 11,
   "metadata": {},
   "outputs": [
    {
     "name": "stdout",
     "output_type": "stream",
     "text": [
      "gap_scores: [0.74686724, 0.727658, 0.71918774, 0.8148815]\n"
     ]
    }
   ],
   "source": [
    "import numpy as np\n",
    "\n",
    "# Define the parameter n\n",
    "n = 3\n",
    "\n",
    "# Calculate gap scores\n",
    "gap_scores = []\n",
    "for i in range(len(embeddings) - n):\n",
    "    similarity = cosine_similarity(embeddings[i:i+n], embeddings[i+n:i+2*n]) # 0, 1 / 2: 4\n",
    "    gap_scores.append(np.mean(similarity))\n",
    "\n",
    "print(\"gap_scores:\", gap_scores)"
   ]
  },
  {
   "cell_type": "code",
   "execution_count": 12,
   "metadata": {},
   "outputs": [
    {
     "data": {
      "text/plain": [
       "array([0.73726261, 0.72342286, 0.76703462])"
      ]
     },
     "execution_count": 12,
     "metadata": {},
     "output_type": "execute_result"
    }
   ],
   "source": [
    "# Define the window size k\n",
    "k = 2\n",
    "\n",
    "# Smoothing the gap scores\n",
    "smoothed_gap_scores = np.convolve(gap_scores, np.ones(k)/k, mode = 'valid')\n",
    "smoothed_gap_scores"
   ]
  },
  {
   "cell_type": "markdown",
   "metadata": {},
   "source": [
    "## Boundary Detection\n"
   ]
  },
  {
   "cell_type": "code",
   "execution_count": 13,
   "metadata": {},
   "outputs": [
    {
     "name": "stdout",
     "output_type": "stream",
     "text": [
      "local_minima: [1]\n",
      "------------------------------\n",
      "significant_boundaries: [1]\n"
     ]
    }
   ],
   "source": [
    "# Detecting local minima\n",
    "local_minima = (np.diff(np.sign(np.diff(smoothed_gap_scores))) > 0).nonzero()[0] + 1\n",
    "\n",
    "# Setting the threshold c\n",
    "c = 0.5\n",
    "\n",
    "# Identifying significant boundaries\n",
    "significant_boundaries = [i for i in local_minima if smoothed_gap_scores[i] < np.mean(smoothed_gap_scores) - c * np.std(smoothed_gap_scores)]\n",
    "significant_boundaries\n",
    "\n",
    "print(\"local_minima:\", local_minima)\n",
    "print(\"-\" * 30)\n",
    "print(\"significant_boundaries:\", significant_boundaries)"
   ]
  },
  {
   "cell_type": "markdown",
   "metadata": {},
   "source": [
    "## Clustering Segments\n",
    "- 중복을 줄이고 고유한 토픽만을 남김"
   ]
  },
  {
   "cell_type": "code",
   "execution_count": 14,
   "metadata": {},
   "outputs": [
    {
     "name": "stdout",
     "output_type": "stream",
     "text": [
      "one boundary...\n",
      "Segment Embeddings: [array([ 6.73997700e-01,  5.57095349e-01, -2.44353227e-02, -2.55724460e-01,\n",
      "       -5.96591458e-02,  2.15857476e-02,  5.99828005e-01,  6.45341128e-02,\n",
      "       -3.92222196e-01, -1.92001432e-01,  4.35042083e-01, -1.26461685e+00,\n",
      "        3.79342884e-02,  1.74870625e-01, -1.84721760e-02, -4.93722767e-01,\n",
      "        2.18904644e-01,  3.42146814e-01, -8.01932439e-02, -7.90148787e-03,\n",
      "       -2.82735556e-01, -1.84479684e-01,  2.99999774e-01, -1.06526688e-01,\n",
      "        4.81037199e-02,  6.51264116e-02,  4.71124083e-01,  1.95169687e-01,\n",
      "       -3.00260186e-01,  2.27225214e-01,  3.63715321e-01, -2.59587526e-01,\n",
      "        3.80624980e-02,  3.77500057e-02,  4.06627417e-01,  1.87223703e-01,\n",
      "        8.72504897e-03,  2.83069551e-01, -1.60812512e-02, -4.98418435e-02,\n",
      "        4.68503200e-02, -2.90195107e-01, -1.31336793e-01,  3.83221924e-01,\n",
      "       -8.93168151e-03, -1.11870065e-01, -2.86401004e-01, -6.38214588e-01,\n",
      "        2.65927222e-02, -6.15395308e-01, -6.17653489e-01, -4.25821036e-01,\n",
      "        2.48111650e-01, -4.86330837e-01,  7.84767345e-02, -2.70121813e-01,\n",
      "        2.16750175e-01,  5.63476980e-01,  3.92697334e-01, -6.13360345e-01,\n",
      "       -6.96298659e-01, -4.11765456e-01, -5.32265604e-01,  4.78112549e-01,\n",
      "       -1.94929749e-01, -3.66196871e-01, -2.16874868e-01,  6.55605048e-02,\n",
      "       -2.17280358e-01, -5.16496360e-01,  5.75024128e-01,  1.81151986e-01,\n",
      "        7.01593161e-01, -9.94767845e-02, -2.44913250e-01, -2.19922453e-01,\n",
      "        6.63960874e-01, -6.92593902e-02, -6.36952138e-03,  2.17951551e-01,\n",
      "       -2.13999838e-01, -1.69347018e-01, -3.75375569e-01,  7.68842362e-03,\n",
      "        4.72486734e-01,  3.18642020e-01, -2.87468731e-01, -3.69866699e-01,\n",
      "       -1.00694830e-02, -4.24861073e-01, -1.53180376e-01,  5.79629302e-01,\n",
      "        1.15440957e-01,  3.96563560e-01, -1.88417420e-01, -9.85768586e-02,\n",
      "       -2.28134483e-01, -5.53146601e-01, -4.24796879e-01, -2.71032780e-01,\n",
      "       -4.02106225e-01,  3.79040658e-01,  2.97667801e-01,  7.46716738e-01,\n",
      "       -5.48499525e-02, -3.71270597e-01,  1.72986165e-01, -3.15310657e-01,\n",
      "       -2.55992174e-01,  2.58289814e-01,  1.00024097e-01, -3.22603762e-01,\n",
      "       -5.55173159e-01,  2.02683091e-01,  2.03893811e-01,  9.57696736e-02,\n",
      "        1.32806189e-02,  2.63475955e-01, -1.31491125e-01, -6.75823927e-01,\n",
      "        4.02022898e-01,  2.60549128e-01, -6.54232800e-01,  1.76729769e-01,\n",
      "       -5.09976625e-01,  1.25686768e-02,  2.81354457e-01,  1.12246704e+00,\n",
      "       -3.91750753e-01,  1.08183563e-01, -6.28414750e-01, -4.49246228e-01,\n",
      "        4.36490357e-01,  4.07338232e-01, -1.20826997e-01,  2.60636210e-01,\n",
      "        2.64809221e-01, -5.56860685e-01, -1.89987682e-02, -5.33314645e-01,\n",
      "       -1.32626057e-01,  8.68289828e-01,  6.33594155e-01, -1.29952002e-02,\n",
      "        5.55929661e-01,  3.29319417e-01,  5.39659142e-01,  2.75623232e-01,\n",
      "        1.51746392e-01,  8.11628401e-01,  5.81001997e-01, -4.76780593e-01,\n",
      "        5.21129608e-01,  3.72162580e-01,  4.67014462e-01, -3.84683967e-01,\n",
      "        1.22956783e-01,  4.39708471e-01, -1.63745731e-01,  2.39009529e-01,\n",
      "       -9.23366025e-02,  3.36139739e-01, -2.25867048e-01, -2.95198441e-01,\n",
      "       -7.57007971e-02, -2.12997139e-01, -1.36868447e-01, -2.18836337e-01,\n",
      "        2.47505903e-01,  7.99563527e-01, -2.13109642e-01,  4.88244563e-01,\n",
      "        1.32570509e-02,  3.26736301e-01,  1.34985983e-01, -1.48039252e-01,\n",
      "       -8.38668495e-02,  5.83754659e-01, -2.39252031e-01,  2.17486680e-01,\n",
      "       -1.19028920e-02, -5.98181963e-01,  5.60197413e-01, -2.03125909e-01,\n",
      "        1.30385101e-01, -1.40189856e-01, -2.88382202e-01, -1.20626297e-02,\n",
      "       -1.79971769e-01, -4.08419013e-01, -4.63374913e-01,  3.03108156e-01,\n",
      "        5.60635626e-02,  3.99746507e-01, -2.53261566e-01, -1.85394689e-01,\n",
      "        1.46848187e-01, -2.73065597e-01,  9.53517705e-02, -2.71269292e-01,\n",
      "       -4.48161960e-01, -4.05865073e-01, -7.11318702e-02,  1.04510531e-01,\n",
      "        3.75252098e-01, -4.74381924e-01,  3.79618943e-01, -1.00836799e-01,\n",
      "        1.04266107e-01,  6.57731354e-01,  2.71457672e-01, -3.15598369e-01,\n",
      "       -5.05677581e-01, -1.37138709e-01,  6.12022519e-01,  3.75367433e-01,\n",
      "        5.48885465e-01,  1.65992491e-02, -3.78610969e-01, -8.58516991e-02,\n",
      "       -8.03337395e-02, -5.29802084e-01, -8.48038197e-02, -1.24534881e+00,\n",
      "        3.57180238e-01, -3.43746394e-02, -2.91637778e-01,  2.57082973e-02,\n",
      "        4.20188189e-01, -6.63723350e-01, -7.13419914e-01,  5.47507286e-01,\n",
      "        5.23871064e-01, -2.70640671e-01, -1.15258843e-01,  2.20883749e-02,\n",
      "        5.06712310e-02, -3.47514808e-01,  2.29610547e-01, -2.97873765e-01,\n",
      "        3.34311068e-01,  5.62744141e-01, -3.02892745e-01,  1.07562251e-01,\n",
      "        1.76464841e-02,  4.24016535e-01, -5.78180909e-01,  3.69118191e-02,\n",
      "       -8.68643880e-01,  7.44608045e-01,  7.85130739e-01,  4.19761479e-01,\n",
      "       -5.38830817e-01, -4.68283713e-01,  3.05146545e-01, -2.77620912e-01,\n",
      "       -2.67196149e-01, -3.36689167e-02,  2.86635041e-01,  8.54085609e-02,\n",
      "        1.13732062e-01, -3.11685145e-01, -1.83235213e-01, -2.71448456e-02,\n",
      "        1.03254355e-01,  3.19416761e-01,  2.51968384e-01,  6.11017823e-01,\n",
      "       -3.42304260e-02, -7.18845963e-01,  1.71985477e-04,  3.78488481e-01,\n",
      "        2.85923183e-01, -2.46244043e-01, -3.68551791e-01, -2.65347540e-01,\n",
      "        5.40510863e-02, -7.63466582e-04,  2.14112401e-01,  1.15397304e-01,\n",
      "        2.91646540e-01, -3.09390780e-02,  8.41126442e-02,  7.64602050e-03,\n",
      "        7.26232305e-03, -3.07328910e-01,  1.08910918e-01, -2.54522674e-02,\n",
      "       -4.16423738e-01,  8.78877938e-02,  2.86776036e-01,  1.67886078e-01,\n",
      "       -5.92825748e-02, -2.62571573e-01,  1.71877727e-01, -1.07593630e-02,\n",
      "       -3.49440813e-01,  1.83069140e-01, -1.07083254e-01,  2.95955241e-01,\n",
      "       -2.50475883e-01,  2.36589611e-01,  6.41914308e-01, -3.66774768e-01,\n",
      "        5.79720624e-02, -2.93325961e-01, -1.57511353e-01,  2.35629529e-02,\n",
      "        7.47138441e-01, -3.57850380e-02, -6.32223710e-02, -5.69071352e-01,\n",
      "        4.60901707e-01,  2.11205661e-01,  3.05295944e-01, -6.87088585e-03,\n",
      "       -5.55320561e-01, -1.94900408e-01, -3.49915326e-01, -8.02475393e-01,\n",
      "        2.22256988e-01,  4.07437325e-01, -5.04311025e-02,  7.29557872e-02,\n",
      "       -1.30562067e-01, -4.28059325e-02, -3.78275737e-02, -5.91352880e-01,\n",
      "        6.20133281e-01,  3.98539186e-01, -1.43899053e-01,  1.60222575e-01,\n",
      "        4.54367399e-01,  1.13326430e-01, -1.44004390e-01,  7.21065104e-02,\n",
      "        1.04982011e-01, -1.80155843e-01, -2.90672421e-01,  4.25426178e-02,\n",
      "       -1.21216543e-01,  3.41992885e-01,  1.21879220e-01,  1.14545777e-01,\n",
      "       -3.01693857e-01, -3.24563980e-01,  1.09653398e-01,  3.26638132e-01,\n",
      "       -3.10618311e-01,  2.86615312e-01, -1.66713148e-01,  3.54454935e-01,\n",
      "        1.28674090e-01,  4.41085659e-02, -2.93716848e-01, -2.13165849e-01,\n",
      "        3.03452104e-01,  1.64656401e-01,  3.95660818e-01,  5.40516734e-01,\n",
      "        6.75983667e-01,  3.34833920e-01,  1.97613925e-01,  9.84822750e-01,\n",
      "       -3.20637286e-01,  1.25145406e-01,  4.55825984e-01, -4.88895565e-01,\n",
      "       -4.25975144e-01,  1.78020030e-01, -3.78098130e-01,  7.31714249e-01,\n",
      "        3.38570625e-02, -5.68338752e-01, -6.96244836e-02,  2.69252956e-01,\n",
      "        6.07511997e-01,  6.02414012e-01, -6.73112988e-01,  1.37628064e-01,\n",
      "        1.06318188e+00, -1.14188695e+00,  1.91458128e-02,  4.70887661e-01],\n",
      "      dtype=float32), array([ 3.68590266e-01,  5.72107136e-01,  1.60531446e-01, -2.23501280e-01,\n",
      "       -2.17667058e-01,  2.16741204e-01,  4.74643826e-01, -1.39730545e-02,\n",
      "       -2.37787798e-01, -3.48366767e-01,  1.49600655e-01, -7.01252460e-01,\n",
      "        2.39949584e-01,  3.50970268e-01,  1.31465554e-01, -2.27853611e-01,\n",
      "       -2.29267683e-02,  4.41703588e-01, -3.49019319e-01, -1.42423391e-01,\n",
      "       -2.68891960e-01, -1.69729233e-01,  3.44581455e-01,  8.21440220e-02,\n",
      "        1.22426897e-02,  1.90818623e-01,  3.04582804e-01,  1.90244481e-01,\n",
      "       -5.18978298e-01,  4.40515399e-01,  5.93981028e-01, -2.88118780e-01,\n",
      "        1.53531000e-01, -4.30649072e-02,  2.05847517e-01,  2.60222912e-01,\n",
      "       -1.60426766e-01,  4.82369632e-01,  4.37397277e-03,  1.22982621e-01,\n",
      "        1.08473130e-01, -2.12049738e-01,  3.80683132e-02,  3.27366263e-01,\n",
      "        1.78356037e-01,  4.73479591e-02,  7.29629770e-02, -5.93164027e-01,\n",
      "        2.74097234e-01, -6.96540833e-01, -5.71367323e-01, -5.16652167e-01,\n",
      "        5.23568332e-01, -4.71909195e-01,  8.73739496e-02, -7.87865222e-01,\n",
      "        3.19231629e-01,  6.39124990e-01,  1.52918354e-01,  2.96697021e-04,\n",
      "       -6.55194759e-01,  2.58453563e-02, -7.46272027e-01,  2.76997000e-01,\n",
      "       -1.07137062e-01, -1.67107821e-01,  9.57345143e-02,  2.65304804e-01,\n",
      "       -1.85928270e-01, -3.17351133e-01,  4.05247927e-01,  4.28802520e-01,\n",
      "        2.55772173e-01,  1.20571077e-01, -4.82827932e-01, -3.01148266e-01,\n",
      "        5.67007601e-01,  5.68643026e-02,  2.12131992e-01, -6.75188974e-02,\n",
      "       -2.52672225e-01, -5.29560745e-01, -3.44676882e-01, -5.61064631e-02,\n",
      "        2.51882613e-01,  1.34927928e-01, -1.02911167e-01, -1.70632198e-01,\n",
      "        2.64904410e-01, -4.43616301e-01, -1.46449089e-01,  5.35356224e-01,\n",
      "        3.38182062e-01,  2.46075839e-02,  1.80680871e-01,  4.59203720e-02,\n",
      "        5.44975288e-02, -4.91630197e-01, -2.53614873e-01, -2.67537892e-01,\n",
      "       -4.08405691e-01,  3.11864048e-01,  2.51167536e-01,  4.16905195e-01,\n",
      "       -7.63090327e-02, -6.67722166e-01,  1.27617776e-01, -3.99719685e-01,\n",
      "        1.29958555e-01,  4.93428797e-01, -2.62718201e-01, -2.96929926e-01,\n",
      "       -4.61557835e-01,  1.98695064e-02, -2.03254044e-01,  1.81167722e-01,\n",
      "        3.20928782e-04,  9.29747522e-03, -9.83101204e-02, -1.68183818e-01,\n",
      "        1.29640833e-01,  4.21122283e-01, -7.20705688e-01, -1.17277568e-02,\n",
      "       -3.64416361e-01,  4.81285490e-02,  2.17421968e-02,  8.10364485e-01,\n",
      "       -7.08960071e-02, -1.06204646e-02, -5.71619451e-01, -6.14023745e-01,\n",
      "        1.02270924e-01,  5.13137758e-01, -2.93328375e-01, -3.24234277e-01,\n",
      "        6.72192812e-01, -2.24764481e-01, -3.98693085e-02, -1.40530303e-01,\n",
      "       -3.08583647e-01,  5.19575059e-01,  2.02121571e-01, -1.14775948e-01,\n",
      "        4.07550454e-01,  1.08206540e-01,  1.89264640e-01,  2.06852376e-01,\n",
      "        2.60293156e-01,  6.39366865e-01,  1.65130079e-01, -5.08282483e-01,\n",
      "        1.17023796e-01,  1.57085657e-01,  7.47012138e-01, -3.93740267e-01,\n",
      "        3.30521226e-01,  3.56368214e-01,  6.63527623e-02,  2.72671342e-01,\n",
      "        3.83602642e-02,  3.14708889e-01,  1.54813543e-01,  5.05581833e-02,\n",
      "        1.82809278e-01,  1.30843893e-01, -2.94227034e-01, -3.90021294e-01,\n",
      "        7.49223828e-02,  5.25531113e-01, -3.69162828e-01,  4.96444106e-01,\n",
      "        1.64597645e-01,  2.36569926e-01, -1.96976170e-01, -4.89181012e-01,\n",
      "       -3.25016201e-01,  2.05970749e-01, -1.97197497e-01,  3.51886392e-01,\n",
      "       -1.90435112e-01, -1.62140191e-01,  2.42796242e-01, -3.10650826e-01,\n",
      "       -1.22310184e-01,  1.56514317e-01, -5.41423857e-01,  8.41875672e-02,\n",
      "       -2.37202391e-01, -5.28563499e-01, -7.96877325e-01, -2.30540499e-01,\n",
      "       -3.46648209e-02, -8.91095102e-02, -1.20722137e-01,  6.35187253e-02,\n",
      "       -1.72024414e-01, -3.68255287e-01,  1.96832716e-01, -3.52867022e-02,\n",
      "       -3.80656451e-01, -3.81795079e-01, -2.17784330e-01, -3.70661825e-01,\n",
      "        3.51013571e-01, -2.18984067e-01,  7.80245781e-01, -4.26219612e-01,\n",
      "        3.73915762e-01,  4.48249578e-01,  7.81128183e-02, -5.88754751e-02,\n",
      "       -1.21217437e-01,  3.26020457e-02,  1.76655427e-01,  4.20738220e-01,\n",
      "        3.78670484e-01,  2.30257466e-01, -9.51157272e-01,  9.44432095e-02,\n",
      "       -2.57789101e-02, -5.02461016e-01,  3.23168010e-01, -1.08804023e+00,\n",
      "        1.46212280e-02, -1.72883701e-02, -3.55631620e-01,  1.62499115e-01,\n",
      "        3.13910782e-01, -1.73544586e-01, -5.06510556e-01,  3.27542901e-01,\n",
      "        5.28333724e-01, -4.70583327e-02,  1.10808700e-01, -3.98183733e-01,\n",
      "        2.98595428e-01, -1.32983672e-02, -1.34062931e-01, -8.60801563e-02,\n",
      "        4.70934600e-01,  7.49525249e-01, -1.05680227e-01,  2.80314952e-01,\n",
      "       -2.31220141e-01,  4.58271474e-01, -6.04659319e-01,  3.03826630e-01,\n",
      "       -6.15667641e-01,  6.25954986e-01,  8.76479089e-01,  3.92060429e-01,\n",
      "       -5.24756372e-01, -1.12915546e-01,  1.70415744e-01, -1.04014874e-01,\n",
      "       -4.91204828e-01,  1.17295533e-02,  2.81229019e-02, -1.39864787e-01,\n",
      "        1.44253105e-01,  2.07430497e-02, -8.29901323e-02, -1.30767062e-01,\n",
      "        2.54843891e-01,  1.94664732e-01, -1.71076192e-03,  7.79484272e-01,\n",
      "       -1.14387460e-01, -4.69741076e-01, -2.74712324e-01,  3.59229408e-02,\n",
      "        1.09880663e-01, -5.31780601e-01, -5.51149547e-02, -1.38521358e-01,\n",
      "        2.27132797e-01, -5.33990152e-02, -1.60439029e-01,  4.13316250e-01,\n",
      "        9.97351632e-02, -2.58093089e-01,  1.35895267e-01,  3.82479191e-01,\n",
      "        2.63274938e-01, -1.04069047e-01,  4.67243455e-02,  1.25733271e-01,\n",
      "       -2.65159875e-01,  1.30092785e-01,  1.14934534e-01,  1.75782382e-01,\n",
      "       -8.52177516e-02, -3.26068312e-01,  2.36449465e-02, -1.24225140e-01,\n",
      "       -1.49282083e-01,  1.91857740e-01,  7.57993236e-02,  2.99619555e-01,\n",
      "       -7.79920220e-02,  1.55324921e-01,  2.50835419e-01, -5.23930728e-01,\n",
      "        1.19236350e-01, -1.20424680e-01, -7.95703754e-02,  1.20033763e-01,\n",
      "        3.63419980e-01, -1.93499580e-01, -2.81773750e-02, -6.41399622e-01,\n",
      "        5.48430502e-01,  2.14656293e-01,  2.37815320e-01,  1.85385361e-01,\n",
      "       -7.36851513e-01, -9.04484168e-02, -4.10400957e-01, -3.45470548e-01,\n",
      "        1.87715605e-01,  4.62602675e-02,  2.94977456e-01, -1.02603547e-01,\n",
      "        3.80715095e-02,  1.14893146e-01, -9.48264673e-02, -5.36613584e-01,\n",
      "        3.45937818e-01,  1.64398849e-01, -3.84747982e-04,  2.69239023e-02,\n",
      "        7.02173486e-02, -5.63696474e-02,  1.85270593e-01,  3.90074283e-01,\n",
      "        3.48329395e-01, -5.23642562e-02, -3.77220273e-01, -3.88095707e-01,\n",
      "       -3.67736667e-01,  1.58943191e-01,  8.75647441e-02,  4.42533404e-01,\n",
      "       -1.80815622e-01, -2.16367483e-01,  3.63284439e-01,  2.00106621e-01,\n",
      "       -5.71925819e-01,  2.45216087e-01, -1.55454382e-01,  5.00460088e-01,\n",
      "        1.77503824e-01,  3.96064110e-02, -5.96140206e-01, -1.82648167e-01,\n",
      "       -7.03136846e-02,  2.00524732e-01,  9.73751470e-02,  3.38467449e-01,\n",
      "        1.66758776e-01,  1.60528347e-01,  3.47352415e-01,  1.26237810e+00,\n",
      "        1.84434466e-02, -1.60114560e-02,  4.68017370e-01, -5.08582532e-01,\n",
      "       -3.74622822e-01,  3.52931052e-01, -1.10598169e-01,  4.55002815e-01,\n",
      "        1.01802073e-01, -1.38253316e-01,  3.65879923e-01,  5.09960465e-02,\n",
      "        3.04519087e-01,  2.16428891e-01, -6.75770342e-01,  6.55812770e-02,\n",
      "        6.87206924e-01, -1.00233650e+00,  1.41418651e-01,  5.03303349e-01],\n",
      "      dtype=float32)]\n"
     ]
    }
   ],
   "source": [
    "from sklearn.cluster import KMeans\n",
    "\n",
    "# Calculate segment embeddings for segmentation\n",
    "if len(significant_boundaries) > 1:\n",
    "    # more than one boundary\n",
    "    print(\"more than one boundary...\")\n",
    "    segment_embeddings = [np.mean(embeddings[start:end], axis=0) for start, end in zip([0]+significant_boundaries, significant_boundaries+[len(embeddings)])]\n",
    "elif len(significant_boundaries) == 1:\n",
    "    # one boundary\n",
    "    print(\"one boundary...\")\n",
    "    segment_embeddings = [np.mean(embeddings[:significant_boundaries[0]], axis=0), np.mean(embeddings[significant_boundaries[0]:], axis=0)]\n",
    "else:\n",
    "    # without boundaries\n",
    "    print(\"without boundaries...\")\n",
    "    segment_embeddings = [np.mean(embeddings, axis=0)]\n",
    "\n",
    "print(\"Segment Embeddings:\", segment_embeddings)"
   ]
  },
  {
   "cell_type": "code",
   "execution_count": 15,
   "metadata": {},
   "outputs": [
    {
     "name": "stdout",
     "output_type": "stream",
     "text": [
      "result of clustering: [0 0]\n"
     ]
    }
   ],
   "source": [
    "# Apply clustering\n",
    "segment_embeddings = np.array(segment_embeddings).reshape(-1, len(segment_embeddings[0]))  # Ensure the array is 2D\n",
    "kmeans = KMeans(n_clusters=1)\n",
    "clusters = kmeans.fit_predict(segment_embeddings)\n",
    "\n",
    "print(\"result of clustering:\", clusters)"
   ]
  }
 ],
 "metadata": {
  "kernelspec": {
   "display_name": "rag",
   "language": "python",
   "name": "python3"
  },
  "language_info": {
   "codemirror_mode": {
    "name": "ipython",
    "version": 3
   },
   "file_extension": ".py",
   "mimetype": "text/x-python",
   "name": "python",
   "nbconvert_exporter": "python",
   "pygments_lexer": "ipython3",
   "version": "3.11.5"
  }
 },
 "nbformat": 4,
 "nbformat_minor": 2
}
